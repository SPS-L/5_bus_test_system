{
 "cells": [
  {
   "cell_type": "markdown",
   "id": "coupled-cuisine",
   "metadata": {},
   "source": [
    "# Case 1\n",
    "\n",
    "Please check https://pyramses.sps-lab.org/ for the documentation."
   ]
  },
  {
   "cell_type": "code",
   "execution_count": 1,
   "id": "several-adaptation",
   "metadata": {},
   "outputs": [],
   "source": [
    "import pyramses\n",
    "import os"
   ]
  },
  {
   "cell_type": "markdown",
   "id": "floral-export",
   "metadata": {},
   "source": [
    "Prepare the case study (check https://pyramses.sps-lab.org/interface/case.html):"
   ]
  },
  {
   "cell_type": "code",
   "execution_count": 2,
   "id": "drawn-speaking",
   "metadata": {},
   "outputs": [],
   "source": [
    "case = pyramses.cfg()\n",
    "case.addOut('output.trace') # save the simulation output\n",
    "case.addData('dyn.dat') # Dynamic data\n",
    "case.addData('lf2.dat') # power-flow data\n",
    "case.addData('lf2solv.dat') # power-flow data\n",
    "case.addData('solveroptions.dat') # solver settings\n",
    "case.addInit('init.trace') # save initialization procedure\n",
    "case.addDst('nothing.dst') # description of disturbance\n",
    "case.addCont('cont.trace') # save continuous trace\n",
    "case.addDisc('disc.trace') # save discrete trace\n",
    "case.addObs('obs.dat')\n",
    "case.addTrj('output.trj')"
   ]
  },
  {
   "cell_type": "markdown",
   "id": "associate-moderator",
   "metadata": {},
   "source": [
    "Clear all the previous simulation files:"
   ]
  },
  {
   "cell_type": "code",
   "execution_count": 3,
   "id": "retired-wound",
   "metadata": {},
   "outputs": [],
   "source": [
    "for item in os.listdir('.'):\n",
    "    if item.endswith(('.trace', '.trj')):\n",
    "        os.remove(os.path.join('.', item))"
   ]
  },
  {
   "cell_type": "markdown",
   "id": "deluxe-atlanta",
   "metadata": {},
   "source": [
    "Start the simulator (check https://pyramses.sps-lab.org/interface/simul.html):"
   ]
  },
  {
   "cell_type": "code",
   "execution_count": 4,
   "id": "august-average",
   "metadata": {},
   "outputs": [
    {
     "ename": "ImportError",
     "evalue": "('RAMSES: ', OSError('/home/apetros/anaconda3/envs/ramenv/lib/python3.7/site-packages/pyramses/libs/ramses.so: undefined symbol: __kmpc_end_critical'))",
     "output_type": "error",
     "traceback": [
      "\u001b[0;31m---------------------------------------------------------------------------\u001b[0m",
      "\u001b[0;31mOSError\u001b[0m                                   Traceback (most recent call last)",
      "\u001b[0;32m~/anaconda3/envs/ramenv/lib/python3.7/site-packages/pyramses/simulator.py\u001b[0m in \u001b[0;36m__init__\u001b[0;34m(self, custLibDir)\u001b[0m\n\u001b[1;32m     51\u001b[0m                 \u001b[0;31m# self._mkllib = ctypes.CDLL(os.path.join(__libdir__, \"libmkl.so\"), mode=ctypes.RTLD_GLOBAL)\u001b[0m\u001b[0;34m\u001b[0m\u001b[0;34m\u001b[0m\u001b[0;34m\u001b[0m\u001b[0m\n\u001b[0;32m---> 52\u001b[0;31m                 \u001b[0mself\u001b[0m\u001b[0;34m.\u001b[0m\u001b[0m_ramseslib\u001b[0m \u001b[0;34m=\u001b[0m \u001b[0mctypes\u001b[0m\u001b[0;34m.\u001b[0m\u001b[0mCDLL\u001b[0m\u001b[0;34m(\u001b[0m\u001b[0mos\u001b[0m\u001b[0;34m.\u001b[0m\u001b[0mpath\u001b[0m\u001b[0;34m.\u001b[0m\u001b[0mjoin\u001b[0m\u001b[0;34m(\u001b[0m\u001b[0mramLibDir\u001b[0m\u001b[0;34m,\u001b[0m \u001b[0;34m\"ramses.so\"\u001b[0m\u001b[0;34m)\u001b[0m\u001b[0;34m)\u001b[0m\u001b[0;34m\u001b[0m\u001b[0;34m\u001b[0m\u001b[0m\n\u001b[0m\u001b[1;32m     53\u001b[0m         \u001b[0;32mexcept\u001b[0m \u001b[0mOSError\u001b[0m \u001b[0;32mas\u001b[0m \u001b[0me\u001b[0m\u001b[0;34m:\u001b[0m\u001b[0;34m\u001b[0m\u001b[0;34m\u001b[0m\u001b[0m\n",
      "\u001b[0;32m~/anaconda3/envs/ramenv/lib/python3.7/ctypes/__init__.py\u001b[0m in \u001b[0;36m__init__\u001b[0;34m(self, name, mode, handle, use_errno, use_last_error)\u001b[0m\n\u001b[1;32m    363\u001b[0m         \u001b[0;32mif\u001b[0m \u001b[0mhandle\u001b[0m \u001b[0;32mis\u001b[0m \u001b[0;32mNone\u001b[0m\u001b[0;34m:\u001b[0m\u001b[0;34m\u001b[0m\u001b[0;34m\u001b[0m\u001b[0m\n\u001b[0;32m--> 364\u001b[0;31m             \u001b[0mself\u001b[0m\u001b[0;34m.\u001b[0m\u001b[0m_handle\u001b[0m \u001b[0;34m=\u001b[0m \u001b[0m_dlopen\u001b[0m\u001b[0;34m(\u001b[0m\u001b[0mself\u001b[0m\u001b[0;34m.\u001b[0m\u001b[0m_name\u001b[0m\u001b[0;34m,\u001b[0m \u001b[0mmode\u001b[0m\u001b[0;34m)\u001b[0m\u001b[0;34m\u001b[0m\u001b[0;34m\u001b[0m\u001b[0m\n\u001b[0m\u001b[1;32m    365\u001b[0m         \u001b[0;32melse\u001b[0m\u001b[0;34m:\u001b[0m\u001b[0;34m\u001b[0m\u001b[0;34m\u001b[0m\u001b[0m\n",
      "\u001b[0;31mOSError\u001b[0m: /home/apetros/anaconda3/envs/ramenv/lib/python3.7/site-packages/pyramses/libs/ramses.so: undefined symbol: __kmpc_end_critical",
      "\nDuring handling of the above exception, another exception occurred:\n",
      "\u001b[0;31mImportError\u001b[0m                               Traceback (most recent call last)",
      "\u001b[0;32m/tmp/ipykernel_200655/800635021.py\u001b[0m in \u001b[0;36m<module>\u001b[0;34m\u001b[0m\n\u001b[0;32m----> 1\u001b[0;31m \u001b[0mram\u001b[0m \u001b[0;34m=\u001b[0m \u001b[0mpyramses\u001b[0m\u001b[0;34m.\u001b[0m\u001b[0msim\u001b[0m\u001b[0;34m(\u001b[0m\u001b[0;34m)\u001b[0m\u001b[0;34m\u001b[0m\u001b[0;34m\u001b[0m\u001b[0m\n\u001b[0m\u001b[1;32m      2\u001b[0m \u001b[0;32mtry\u001b[0m\u001b[0;34m:\u001b[0m\u001b[0;34m\u001b[0m\u001b[0;34m\u001b[0m\u001b[0m\n\u001b[1;32m      3\u001b[0m     \u001b[0mram\u001b[0m\u001b[0;34m.\u001b[0m\u001b[0mexecSim\u001b[0m\u001b[0;34m(\u001b[0m\u001b[0mcase\u001b[0m\u001b[0;34m,\u001b[0m\u001b[0;36m0.0\u001b[0m\u001b[0;34m)\u001b[0m\u001b[0;34m\u001b[0m\u001b[0;34m\u001b[0m\u001b[0m\n\u001b[1;32m      4\u001b[0m \u001b[0;32mexcept\u001b[0m\u001b[0;34m:\u001b[0m\u001b[0;34m\u001b[0m\u001b[0;34m\u001b[0m\u001b[0m\n\u001b[1;32m      5\u001b[0m     \u001b[0mprint\u001b[0m\u001b[0;34m(\u001b[0m\u001b[0mram\u001b[0m\u001b[0;34m.\u001b[0m\u001b[0mgetLastErr\u001b[0m\u001b[0;34m(\u001b[0m\u001b[0;34m)\u001b[0m\u001b[0;34m)\u001b[0m\u001b[0;34m\u001b[0m\u001b[0;34m\u001b[0m\u001b[0m\n",
      "\u001b[0;32m~/anaconda3/envs/ramenv/lib/python3.7/site-packages/pyramses/simulator.py\u001b[0m in \u001b[0;36m__init__\u001b[0;34m(self, custLibDir)\u001b[0m\n\u001b[1;32m     52\u001b[0m                 \u001b[0mself\u001b[0m\u001b[0;34m.\u001b[0m\u001b[0m_ramseslib\u001b[0m \u001b[0;34m=\u001b[0m \u001b[0mctypes\u001b[0m\u001b[0;34m.\u001b[0m\u001b[0mCDLL\u001b[0m\u001b[0;34m(\u001b[0m\u001b[0mos\u001b[0m\u001b[0;34m.\u001b[0m\u001b[0mpath\u001b[0m\u001b[0;34m.\u001b[0m\u001b[0mjoin\u001b[0m\u001b[0;34m(\u001b[0m\u001b[0mramLibDir\u001b[0m\u001b[0;34m,\u001b[0m \u001b[0;34m\"ramses.so\"\u001b[0m\u001b[0;34m)\u001b[0m\u001b[0;34m)\u001b[0m\u001b[0;34m\u001b[0m\u001b[0;34m\u001b[0m\u001b[0m\n\u001b[1;32m     53\u001b[0m         \u001b[0;32mexcept\u001b[0m \u001b[0mOSError\u001b[0m \u001b[0;32mas\u001b[0m \u001b[0me\u001b[0m\u001b[0;34m:\u001b[0m\u001b[0;34m\u001b[0m\u001b[0;34m\u001b[0m\u001b[0m\n\u001b[0;32m---> 54\u001b[0;31m             \u001b[0;32mraise\u001b[0m \u001b[0mImportError\u001b[0m\u001b[0;34m(\u001b[0m\u001b[0;34m'RAMSES: '\u001b[0m\u001b[0;34m,\u001b[0m \u001b[0me\u001b[0m\u001b[0;34m)\u001b[0m\u001b[0;34m\u001b[0m\u001b[0;34m\u001b[0m\u001b[0m\n\u001b[0m\u001b[1;32m     55\u001b[0m \u001b[0;34m\u001b[0m\u001b[0m\n\u001b[1;32m     56\u001b[0m         \u001b[0msim\u001b[0m\u001b[0;34m.\u001b[0m\u001b[0mramsesCount\u001b[0m \u001b[0;34m+=\u001b[0m \u001b[0;36m1\u001b[0m\u001b[0;34m\u001b[0m\u001b[0;34m\u001b[0m\u001b[0m\n",
      "\u001b[0;31mImportError\u001b[0m: ('RAMSES: ', OSError('/home/apetros/anaconda3/envs/ramenv/lib/python3.7/site-packages/pyramses/libs/ramses.so: undefined symbol: __kmpc_end_critical'))"
     ]
    }
   ],
   "source": [
    "ram = pyramses.sim()\n",
    "try:\n",
    "    ram.execSim(case,0.0)\n",
    "except:\n",
    "    print(ram.getLastErr()) "
   ]
  },
  {
   "cell_type": "markdown",
   "id": "welsh-cooperative",
   "metadata": {},
   "source": [
    "Add a disturbance:"
   ]
  },
  {
   "cell_type": "code",
   "execution_count": null,
   "id": "political-procurement",
   "metadata": {},
   "outputs": [],
   "source": [
    "ram.addDisturb(1.00, 'CHGPRM TOR G Po 115 MW 10')"
   ]
  },
  {
   "cell_type": "markdown",
   "id": "timely-disposal",
   "metadata": {},
   "source": [
    "Simulate until t=150.0 s (check https://pyramses.sps-lab.org/interface/simul.html):"
   ]
  },
  {
   "cell_type": "code",
   "execution_count": null,
   "id": "analyzed-gilbert",
   "metadata": {},
   "outputs": [],
   "source": [
    "try:\n",
    "    ram.contSim(60.0) \n",
    "    ram.endSim()\n",
    "except:\n",
    "    print(ram.getLastErr())   "
   ]
  },
  {
   "cell_type": "markdown",
   "id": "retained-congo",
   "metadata": {},
   "source": [
    "Uncomment to see the log file:"
   ]
  },
  {
   "cell_type": "code",
   "execution_count": null,
   "id": "restricted-penetration",
   "metadata": {},
   "outputs": [],
   "source": [
    "#print(open(case.getOut()).read())"
   ]
  },
  {
   "cell_type": "markdown",
   "id": "gothic-rebound",
   "metadata": {},
   "source": [
    "Get the results and plot the voltage evolution (check https://pyramses.sps-lab.org/interface/extractor.html):"
   ]
  },
  {
   "cell_type": "code",
   "execution_count": null,
   "id": "iraqi-clear",
   "metadata": {},
   "outputs": [],
   "source": [
    "ext = pyramses.extractor(case.getTrj())"
   ]
  },
  {
   "cell_type": "markdown",
   "id": "0bf219e6",
   "metadata": {},
   "source": [
    "Plot the generator active power"
   ]
  },
  {
   "cell_type": "code",
   "execution_count": null,
   "id": "1c20164c",
   "metadata": {},
   "outputs": [],
   "source": [
    "ext.getSync('G').P.plot()"
   ]
  },
  {
   "cell_type": "markdown",
   "id": "d31faf04",
   "metadata": {},
   "source": [
    "Plot the generator reactive power"
   ]
  },
  {
   "cell_type": "code",
   "execution_count": null,
   "id": "47da18ff",
   "metadata": {},
   "outputs": [],
   "source": [
    "ext.getSync('G').Q.plot()"
   ]
  },
  {
   "cell_type": "markdown",
   "id": "294a31d8",
   "metadata": {},
   "source": [
    "Plot the generator rotor angle"
   ]
  },
  {
   "cell_type": "code",
   "execution_count": null,
   "id": "1bc57d7b",
   "metadata": {},
   "outputs": [],
   "source": [
    "ext.getSync('G').A.plot()"
   ]
  },
  {
   "cell_type": "markdown",
   "id": "92140ee9",
   "metadata": {},
   "source": [
    "Plot the generator field current"
   ]
  },
  {
   "cell_type": "code",
   "execution_count": 2,
   "id": "343d0490",
   "metadata": {},
   "outputs": [
    {
     "ename": "NameError",
     "evalue": "name 'ext' is not defined",
     "output_type": "error",
     "traceback": [
      "\u001b[0;31m---------------------------------------------------------------------------\u001b[0m",
      "\u001b[0;31mNameError\u001b[0m                                 Traceback (most recent call last)",
      "\u001b[0;32m/tmp/ipykernel_197221/2715913006.py\u001b[0m in \u001b[0;36m<module>\u001b[0;34m\u001b[0m\n\u001b[0;32m----> 1\u001b[0;31m \u001b[0mext\u001b[0m\u001b[0;34m.\u001b[0m\u001b[0mgetSync\u001b[0m\u001b[0;34m(\u001b[0m\u001b[0;34m'G'\u001b[0m\u001b[0;34m)\u001b[0m\u001b[0;34m.\u001b[0m\u001b[0mFC\u001b[0m\u001b[0;34m.\u001b[0m\u001b[0mplot\u001b[0m\u001b[0;34m(\u001b[0m\u001b[0;34m)\u001b[0m\u001b[0;34m\u001b[0m\u001b[0;34m\u001b[0m\u001b[0m\n\u001b[0m",
      "\u001b[0;31mNameError\u001b[0m: name 'ext' is not defined"
     ]
    }
   ],
   "source": [
    "ext.getSync('G').FC.plot()"
   ]
  },
  {
   "cell_type": "markdown",
   "id": "periodic-forth",
   "metadata": {},
   "source": [
    "Plot the control valve z of the turbine"
   ]
  },
  {
   "cell_type": "code",
   "execution_count": 3,
   "id": "intelligent-logic",
   "metadata": {},
   "outputs": [
    {
     "ename": "NameError",
     "evalue": "name 'ext' is not defined",
     "output_type": "error",
     "traceback": [
      "\u001b[0;31m---------------------------------------------------------------------------\u001b[0m",
      "\u001b[0;31mNameError\u001b[0m                                 Traceback (most recent call last)",
      "\u001b[0;32m/tmp/ipykernel_197221/2250762736.py\u001b[0m in \u001b[0;36m<module>\u001b[0;34m\u001b[0m\n\u001b[0;32m----> 1\u001b[0;31m \u001b[0mext\u001b[0m\u001b[0;34m.\u001b[0m\u001b[0mgetTor\u001b[0m\u001b[0;34m(\u001b[0m\u001b[0;34m'g5'\u001b[0m\u001b[0;34m)\u001b[0m\u001b[0;34m.\u001b[0m\u001b[0mz\u001b[0m\u001b[0;34m.\u001b[0m\u001b[0mplot\u001b[0m\u001b[0;34m(\u001b[0m\u001b[0;34m)\u001b[0m\u001b[0;34m\u001b[0m\u001b[0;34m\u001b[0m\u001b[0m\n\u001b[0m",
      "\u001b[0;31mNameError\u001b[0m: name 'ext' is not defined"
     ]
    }
   ],
   "source": [
    "ext.getTor('g5').z.plot()"
   ]
  },
  {
   "cell_type": "markdown",
   "id": "secondary-paste",
   "metadata": {},
   "source": [
    "Plot the voltage magnitude at bus 3"
   ]
  },
  {
   "cell_type": "code",
   "execution_count": null,
   "id": "recovered-stereo",
   "metadata": {},
   "outputs": [],
   "source": [
    "ext.getBus('3').mag.plot()"
   ]
  },
  {
   "cell_type": "code",
   "execution_count": null,
   "id": "coral-judgment",
   "metadata": {},
   "outputs": [],
   "source": []
  }
 ],
 "metadata": {
  "kernelspec": {
   "display_name": "Python 3 (ipykernel)",
   "language": "python",
   "name": "python3"
  },
  "language_info": {
   "codemirror_mode": {
    "name": "ipython",
    "version": 3
   },
   "file_extension": ".py",
   "mimetype": "text/x-python",
   "name": "python",
   "nbconvert_exporter": "python",
   "pygments_lexer": "ipython3",
   "version": "3.7.13"
  }
 },
 "nbformat": 4,
 "nbformat_minor": 5
}
